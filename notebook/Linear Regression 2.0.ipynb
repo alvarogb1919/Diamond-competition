{
 "cells": [
  {
   "cell_type": "code",
   "execution_count": 1,
   "id": "724b0e70",
   "metadata": {},
   "outputs": [],
   "source": [
    "import pandas as pd"
   ]
  },
  {
   "cell_type": "code",
   "execution_count": 2,
   "id": "fd10f2fc",
   "metadata": {},
   "outputs": [],
   "source": [
    "diamonds = pd.read_csv('./train.csv', index_col=0)"
   ]
  },
  {
   "cell_type": "code",
   "execution_count": 3,
   "id": "605cdbed",
   "metadata": {},
   "outputs": [
    {
     "data": {
      "text/html": [
       "<div>\n",
       "<style scoped>\n",
       "    .dataframe tbody tr th:only-of-type {\n",
       "        vertical-align: middle;\n",
       "    }\n",
       "\n",
       "    .dataframe tbody tr th {\n",
       "        vertical-align: top;\n",
       "    }\n",
       "\n",
       "    .dataframe thead th {\n",
       "        text-align: right;\n",
       "    }\n",
       "</style>\n",
       "<table border=\"1\" class=\"dataframe\">\n",
       "  <thead>\n",
       "    <tr style=\"text-align: right;\">\n",
       "      <th></th>\n",
       "      <th>carat</th>\n",
       "      <th>cut</th>\n",
       "      <th>color</th>\n",
       "      <th>clarity</th>\n",
       "      <th>depth</th>\n",
       "      <th>table</th>\n",
       "      <th>x</th>\n",
       "      <th>y</th>\n",
       "      <th>z</th>\n",
       "      <th>price</th>\n",
       "    </tr>\n",
       "    <tr>\n",
       "      <th>id</th>\n",
       "      <th></th>\n",
       "      <th></th>\n",
       "      <th></th>\n",
       "      <th></th>\n",
       "      <th></th>\n",
       "      <th></th>\n",
       "      <th></th>\n",
       "      <th></th>\n",
       "      <th></th>\n",
       "      <th></th>\n",
       "    </tr>\n",
       "  </thead>\n",
       "  <tbody>\n",
       "    <tr>\n",
       "      <th>0</th>\n",
       "      <td>0.30</td>\n",
       "      <td>Ideal</td>\n",
       "      <td>F</td>\n",
       "      <td>SI1</td>\n",
       "      <td>61.4</td>\n",
       "      <td>55.0</td>\n",
       "      <td>4.31</td>\n",
       "      <td>4.34</td>\n",
       "      <td>2.65</td>\n",
       "      <td>630.99</td>\n",
       "    </tr>\n",
       "    <tr>\n",
       "      <th>1</th>\n",
       "      <td>0.41</td>\n",
       "      <td>Ideal</td>\n",
       "      <td>G</td>\n",
       "      <td>SI1</td>\n",
       "      <td>61.6</td>\n",
       "      <td>57.0</td>\n",
       "      <td>4.77</td>\n",
       "      <td>4.81</td>\n",
       "      <td>2.95</td>\n",
       "      <td>701.21</td>\n",
       "    </tr>\n",
       "    <tr>\n",
       "      <th>2</th>\n",
       "      <td>0.30</td>\n",
       "      <td>Very Good</td>\n",
       "      <td>H</td>\n",
       "      <td>SI1</td>\n",
       "      <td>62.2</td>\n",
       "      <td>60.0</td>\n",
       "      <td>4.24</td>\n",
       "      <td>4.28</td>\n",
       "      <td>2.65</td>\n",
       "      <td>604.26</td>\n",
       "    </tr>\n",
       "    <tr>\n",
       "      <th>3</th>\n",
       "      <td>1.04</td>\n",
       "      <td>Premium</td>\n",
       "      <td>F</td>\n",
       "      <td>VVS2</td>\n",
       "      <td>62.5</td>\n",
       "      <td>58.0</td>\n",
       "      <td>6.46</td>\n",
       "      <td>6.37</td>\n",
       "      <td>4.01</td>\n",
       "      <td>909.90</td>\n",
       "    </tr>\n",
       "    <tr>\n",
       "      <th>4</th>\n",
       "      <td>0.84</td>\n",
       "      <td>Fair</td>\n",
       "      <td>G</td>\n",
       "      <td>VS1</td>\n",
       "      <td>55.6</td>\n",
       "      <td>64.0</td>\n",
       "      <td>6.42</td>\n",
       "      <td>6.32</td>\n",
       "      <td>3.54</td>\n",
       "      <td>790.99</td>\n",
       "    </tr>\n",
       "  </tbody>\n",
       "</table>\n",
       "</div>"
      ],
      "text/plain": [
       "    carat        cut color clarity  depth  table     x     y     z   price\n",
       "id                                                                        \n",
       "0    0.30      Ideal     F     SI1   61.4   55.0  4.31  4.34  2.65  630.99\n",
       "1    0.41      Ideal     G     SI1   61.6   57.0  4.77  4.81  2.95  701.21\n",
       "2    0.30  Very Good     H     SI1   62.2   60.0  4.24  4.28  2.65  604.26\n",
       "3    1.04    Premium     F    VVS2   62.5   58.0  6.46  6.37  4.01  909.90\n",
       "4    0.84       Fair     G     VS1   55.6   64.0  6.42  6.32  3.54  790.99"
      ]
     },
     "execution_count": 3,
     "metadata": {},
     "output_type": "execute_result"
    }
   ],
   "source": [
    "diamonds.head()"
   ]
  },
  {
   "cell_type": "code",
   "execution_count": 5,
   "id": "7ac0f181",
   "metadata": {},
   "outputs": [
    {
     "data": {
      "text/plain": [
       "array(['Ideal', 'Very Good', 'Premium', 'Fair', 'Good'], dtype=object)"
      ]
     },
     "execution_count": 5,
     "metadata": {},
     "output_type": "execute_result"
    }
   ],
   "source": [
    "diamonds.cut.unique()"
   ]
  },
  {
   "cell_type": "markdown",
   "id": "e45399de",
   "metadata": {},
   "source": [
    "### Given that this characteristic can be replaced by numbers let's do that"
   ]
  },
  {
   "cell_type": "code",
   "execution_count": 9,
   "id": "99fe72f1",
   "metadata": {},
   "outputs": [],
   "source": [
    "diamonds['cut'] = diamonds['cut'].replace(['Fair','Good', 'Very Good', 'Ideal', 'Premium'],[1, 2, 3, 4, 5])"
   ]
  },
  {
   "cell_type": "code",
   "execution_count": 10,
   "id": "17fd4a14",
   "metadata": {},
   "outputs": [
    {
     "data": {
      "text/html": [
       "<div>\n",
       "<style scoped>\n",
       "    .dataframe tbody tr th:only-of-type {\n",
       "        vertical-align: middle;\n",
       "    }\n",
       "\n",
       "    .dataframe tbody tr th {\n",
       "        vertical-align: top;\n",
       "    }\n",
       "\n",
       "    .dataframe thead th {\n",
       "        text-align: right;\n",
       "    }\n",
       "</style>\n",
       "<table border=\"1\" class=\"dataframe\">\n",
       "  <thead>\n",
       "    <tr style=\"text-align: right;\">\n",
       "      <th></th>\n",
       "      <th>carat</th>\n",
       "      <th>cut</th>\n",
       "      <th>color</th>\n",
       "      <th>clarity</th>\n",
       "      <th>depth</th>\n",
       "      <th>table</th>\n",
       "      <th>x</th>\n",
       "      <th>y</th>\n",
       "      <th>z</th>\n",
       "      <th>price</th>\n",
       "    </tr>\n",
       "    <tr>\n",
       "      <th>id</th>\n",
       "      <th></th>\n",
       "      <th></th>\n",
       "      <th></th>\n",
       "      <th></th>\n",
       "      <th></th>\n",
       "      <th></th>\n",
       "      <th></th>\n",
       "      <th></th>\n",
       "      <th></th>\n",
       "      <th></th>\n",
       "    </tr>\n",
       "  </thead>\n",
       "  <tbody>\n",
       "    <tr>\n",
       "      <th>0</th>\n",
       "      <td>0.30</td>\n",
       "      <td>4</td>\n",
       "      <td>F</td>\n",
       "      <td>SI1</td>\n",
       "      <td>61.4</td>\n",
       "      <td>55.0</td>\n",
       "      <td>4.31</td>\n",
       "      <td>4.34</td>\n",
       "      <td>2.65</td>\n",
       "      <td>630.99</td>\n",
       "    </tr>\n",
       "    <tr>\n",
       "      <th>1</th>\n",
       "      <td>0.41</td>\n",
       "      <td>4</td>\n",
       "      <td>G</td>\n",
       "      <td>SI1</td>\n",
       "      <td>61.6</td>\n",
       "      <td>57.0</td>\n",
       "      <td>4.77</td>\n",
       "      <td>4.81</td>\n",
       "      <td>2.95</td>\n",
       "      <td>701.21</td>\n",
       "    </tr>\n",
       "    <tr>\n",
       "      <th>2</th>\n",
       "      <td>0.30</td>\n",
       "      <td>3</td>\n",
       "      <td>H</td>\n",
       "      <td>SI1</td>\n",
       "      <td>62.2</td>\n",
       "      <td>60.0</td>\n",
       "      <td>4.24</td>\n",
       "      <td>4.28</td>\n",
       "      <td>2.65</td>\n",
       "      <td>604.26</td>\n",
       "    </tr>\n",
       "    <tr>\n",
       "      <th>3</th>\n",
       "      <td>1.04</td>\n",
       "      <td>5</td>\n",
       "      <td>F</td>\n",
       "      <td>VVS2</td>\n",
       "      <td>62.5</td>\n",
       "      <td>58.0</td>\n",
       "      <td>6.46</td>\n",
       "      <td>6.37</td>\n",
       "      <td>4.01</td>\n",
       "      <td>909.90</td>\n",
       "    </tr>\n",
       "    <tr>\n",
       "      <th>4</th>\n",
       "      <td>0.84</td>\n",
       "      <td>1</td>\n",
       "      <td>G</td>\n",
       "      <td>VS1</td>\n",
       "      <td>55.6</td>\n",
       "      <td>64.0</td>\n",
       "      <td>6.42</td>\n",
       "      <td>6.32</td>\n",
       "      <td>3.54</td>\n",
       "      <td>790.99</td>\n",
       "    </tr>\n",
       "  </tbody>\n",
       "</table>\n",
       "</div>"
      ],
      "text/plain": [
       "    carat  cut color clarity  depth  table     x     y     z   price\n",
       "id                                                                  \n",
       "0    0.30    4     F     SI1   61.4   55.0  4.31  4.34  2.65  630.99\n",
       "1    0.41    4     G     SI1   61.6   57.0  4.77  4.81  2.95  701.21\n",
       "2    0.30    3     H     SI1   62.2   60.0  4.24  4.28  2.65  604.26\n",
       "3    1.04    5     F    VVS2   62.5   58.0  6.46  6.37  4.01  909.90\n",
       "4    0.84    1     G     VS1   55.6   64.0  6.42  6.32  3.54  790.99"
      ]
     },
     "execution_count": 10,
     "metadata": {},
     "output_type": "execute_result"
    }
   ],
   "source": [
    "diamonds.head()"
   ]
  },
  {
   "cell_type": "markdown",
   "id": "d134b69d",
   "metadata": {},
   "source": [
    "### Also, I have looked up that for colors, the lower the grade scale the better, let's put that into numeric values also"
   ]
  },
  {
   "cell_type": "code",
   "execution_count": 12,
   "id": "19810967",
   "metadata": {},
   "outputs": [
    {
     "data": {
      "text/plain": [
       "array(['F', 'G', 'H', 'J', 'I', 'E', 'D'], dtype=object)"
      ]
     },
     "execution_count": 12,
     "metadata": {},
     "output_type": "execute_result"
    }
   ],
   "source": [
    "diamonds.color.unique()"
   ]
  },
  {
   "cell_type": "code",
   "execution_count": 13,
   "id": "fe85614b",
   "metadata": {},
   "outputs": [],
   "source": [
    "diamonds['color'] = diamonds['color'].replace(['J','I', 'H', 'G', 'F', 'E', 'D'],[1, 2, 3, 4, 5, 6, 7])"
   ]
  },
  {
   "cell_type": "code",
   "execution_count": 14,
   "id": "b6937905",
   "metadata": {},
   "outputs": [
    {
     "data": {
      "text/html": [
       "<div>\n",
       "<style scoped>\n",
       "    .dataframe tbody tr th:only-of-type {\n",
       "        vertical-align: middle;\n",
       "    }\n",
       "\n",
       "    .dataframe tbody tr th {\n",
       "        vertical-align: top;\n",
       "    }\n",
       "\n",
       "    .dataframe thead th {\n",
       "        text-align: right;\n",
       "    }\n",
       "</style>\n",
       "<table border=\"1\" class=\"dataframe\">\n",
       "  <thead>\n",
       "    <tr style=\"text-align: right;\">\n",
       "      <th></th>\n",
       "      <th>carat</th>\n",
       "      <th>cut</th>\n",
       "      <th>color</th>\n",
       "      <th>clarity</th>\n",
       "      <th>depth</th>\n",
       "      <th>table</th>\n",
       "      <th>x</th>\n",
       "      <th>y</th>\n",
       "      <th>z</th>\n",
       "      <th>price</th>\n",
       "    </tr>\n",
       "    <tr>\n",
       "      <th>id</th>\n",
       "      <th></th>\n",
       "      <th></th>\n",
       "      <th></th>\n",
       "      <th></th>\n",
       "      <th></th>\n",
       "      <th></th>\n",
       "      <th></th>\n",
       "      <th></th>\n",
       "      <th></th>\n",
       "      <th></th>\n",
       "    </tr>\n",
       "  </thead>\n",
       "  <tbody>\n",
       "    <tr>\n",
       "      <th>0</th>\n",
       "      <td>0.30</td>\n",
       "      <td>4</td>\n",
       "      <td>5</td>\n",
       "      <td>SI1</td>\n",
       "      <td>61.4</td>\n",
       "      <td>55.0</td>\n",
       "      <td>4.31</td>\n",
       "      <td>4.34</td>\n",
       "      <td>2.65</td>\n",
       "      <td>630.99</td>\n",
       "    </tr>\n",
       "    <tr>\n",
       "      <th>1</th>\n",
       "      <td>0.41</td>\n",
       "      <td>4</td>\n",
       "      <td>4</td>\n",
       "      <td>SI1</td>\n",
       "      <td>61.6</td>\n",
       "      <td>57.0</td>\n",
       "      <td>4.77</td>\n",
       "      <td>4.81</td>\n",
       "      <td>2.95</td>\n",
       "      <td>701.21</td>\n",
       "    </tr>\n",
       "    <tr>\n",
       "      <th>2</th>\n",
       "      <td>0.30</td>\n",
       "      <td>3</td>\n",
       "      <td>3</td>\n",
       "      <td>SI1</td>\n",
       "      <td>62.2</td>\n",
       "      <td>60.0</td>\n",
       "      <td>4.24</td>\n",
       "      <td>4.28</td>\n",
       "      <td>2.65</td>\n",
       "      <td>604.26</td>\n",
       "    </tr>\n",
       "    <tr>\n",
       "      <th>3</th>\n",
       "      <td>1.04</td>\n",
       "      <td>5</td>\n",
       "      <td>5</td>\n",
       "      <td>VVS2</td>\n",
       "      <td>62.5</td>\n",
       "      <td>58.0</td>\n",
       "      <td>6.46</td>\n",
       "      <td>6.37</td>\n",
       "      <td>4.01</td>\n",
       "      <td>909.90</td>\n",
       "    </tr>\n",
       "    <tr>\n",
       "      <th>4</th>\n",
       "      <td>0.84</td>\n",
       "      <td>1</td>\n",
       "      <td>4</td>\n",
       "      <td>VS1</td>\n",
       "      <td>55.6</td>\n",
       "      <td>64.0</td>\n",
       "      <td>6.42</td>\n",
       "      <td>6.32</td>\n",
       "      <td>3.54</td>\n",
       "      <td>790.99</td>\n",
       "    </tr>\n",
       "  </tbody>\n",
       "</table>\n",
       "</div>"
      ],
      "text/plain": [
       "    carat  cut  color clarity  depth  table     x     y     z   price\n",
       "id                                                                   \n",
       "0    0.30    4      5     SI1   61.4   55.0  4.31  4.34  2.65  630.99\n",
       "1    0.41    4      4     SI1   61.6   57.0  4.77  4.81  2.95  701.21\n",
       "2    0.30    3      3     SI1   62.2   60.0  4.24  4.28  2.65  604.26\n",
       "3    1.04    5      5    VVS2   62.5   58.0  6.46  6.37  4.01  909.90\n",
       "4    0.84    1      4     VS1   55.6   64.0  6.42  6.32  3.54  790.99"
      ]
     },
     "execution_count": 14,
     "metadata": {},
     "output_type": "execute_result"
    }
   ],
   "source": [
    "diamonds.head()"
   ]
  },
  {
   "cell_type": "code",
   "execution_count": 15,
   "id": "cf6eb79e",
   "metadata": {},
   "outputs": [],
   "source": [
    "diamonds.drop(['clarity'], axis=1, inplace=True)"
   ]
  },
  {
   "cell_type": "markdown",
   "id": "0116d8f0",
   "metadata": {},
   "source": [
    "### Model"
   ]
  },
  {
   "cell_type": "code",
   "execution_count": 33,
   "id": "b1e692b9",
   "metadata": {},
   "outputs": [],
   "source": [
    "from sklearn.linear_model import LinearRegression"
   ]
  },
  {
   "cell_type": "code",
   "execution_count": 34,
   "id": "aabbe7d9",
   "metadata": {},
   "outputs": [],
   "source": [
    "lreg = LinearRegression()"
   ]
  },
  {
   "cell_type": "code",
   "execution_count": 35,
   "id": "88227e71",
   "metadata": {},
   "outputs": [],
   "source": [
    "X = diamonds.drop('price', axis=1)"
   ]
  },
  {
   "cell_type": "code",
   "execution_count": 36,
   "id": "2907e9d9",
   "metadata": {},
   "outputs": [],
   "source": [
    "y = diamonds.price"
   ]
  },
  {
   "cell_type": "code",
   "execution_count": 37,
   "id": "37e91718",
   "metadata": {},
   "outputs": [
    {
     "data": {
      "text/plain": [
       "LinearRegression()"
      ]
     },
     "execution_count": 37,
     "metadata": {},
     "output_type": "execute_result"
    }
   ],
   "source": [
    "lreg.fit(X,y)"
   ]
  },
  {
   "cell_type": "markdown",
   "id": "1ec4b70a",
   "metadata": {},
   "source": [
    "### Predict test"
   ]
  },
  {
   "cell_type": "code",
   "execution_count": 38,
   "id": "4695f6d6",
   "metadata": {},
   "outputs": [],
   "source": [
    "test = pd.read_csv(\"./test.csv\", index_col=0)"
   ]
  },
  {
   "cell_type": "code",
   "execution_count": 39,
   "id": "ecd7b527",
   "metadata": {},
   "outputs": [
    {
     "data": {
      "text/html": [
       "<div>\n",
       "<style scoped>\n",
       "    .dataframe tbody tr th:only-of-type {\n",
       "        vertical-align: middle;\n",
       "    }\n",
       "\n",
       "    .dataframe tbody tr th {\n",
       "        vertical-align: top;\n",
       "    }\n",
       "\n",
       "    .dataframe thead th {\n",
       "        text-align: right;\n",
       "    }\n",
       "</style>\n",
       "<table border=\"1\" class=\"dataframe\">\n",
       "  <thead>\n",
       "    <tr style=\"text-align: right;\">\n",
       "      <th></th>\n",
       "      <th>carat</th>\n",
       "      <th>cut</th>\n",
       "      <th>color</th>\n",
       "      <th>clarity</th>\n",
       "      <th>depth</th>\n",
       "      <th>table</th>\n",
       "      <th>x</th>\n",
       "      <th>y</th>\n",
       "      <th>z</th>\n",
       "    </tr>\n",
       "    <tr>\n",
       "      <th>id</th>\n",
       "      <th></th>\n",
       "      <th></th>\n",
       "      <th></th>\n",
       "      <th></th>\n",
       "      <th></th>\n",
       "      <th></th>\n",
       "      <th></th>\n",
       "      <th></th>\n",
       "      <th></th>\n",
       "    </tr>\n",
       "  </thead>\n",
       "  <tbody>\n",
       "    <tr>\n",
       "      <th>0</th>\n",
       "      <td>0.70</td>\n",
       "      <td>Very Good</td>\n",
       "      <td>H</td>\n",
       "      <td>SI1</td>\n",
       "      <td>61.0</td>\n",
       "      <td>58.0</td>\n",
       "      <td>5.67</td>\n",
       "      <td>5.70</td>\n",
       "      <td>3.47</td>\n",
       "    </tr>\n",
       "    <tr>\n",
       "      <th>1</th>\n",
       "      <td>1.52</td>\n",
       "      <td>Ideal</td>\n",
       "      <td>H</td>\n",
       "      <td>VS2</td>\n",
       "      <td>61.8</td>\n",
       "      <td>54.0</td>\n",
       "      <td>7.42</td>\n",
       "      <td>7.43</td>\n",
       "      <td>4.59</td>\n",
       "    </tr>\n",
       "    <tr>\n",
       "      <th>2</th>\n",
       "      <td>1.03</td>\n",
       "      <td>Ideal</td>\n",
       "      <td>E</td>\n",
       "      <td>SI1</td>\n",
       "      <td>62.0</td>\n",
       "      <td>57.0</td>\n",
       "      <td>6.44</td>\n",
       "      <td>6.47</td>\n",
       "      <td>4.00</td>\n",
       "    </tr>\n",
       "    <tr>\n",
       "      <th>3</th>\n",
       "      <td>0.70</td>\n",
       "      <td>Very Good</td>\n",
       "      <td>G</td>\n",
       "      <td>VVS1</td>\n",
       "      <td>63.3</td>\n",
       "      <td>57.0</td>\n",
       "      <td>5.59</td>\n",
       "      <td>5.63</td>\n",
       "      <td>3.55</td>\n",
       "    </tr>\n",
       "    <tr>\n",
       "      <th>4</th>\n",
       "      <td>1.28</td>\n",
       "      <td>Ideal</td>\n",
       "      <td>H</td>\n",
       "      <td>SI1</td>\n",
       "      <td>62.4</td>\n",
       "      <td>56.0</td>\n",
       "      <td>6.93</td>\n",
       "      <td>6.91</td>\n",
       "      <td>4.32</td>\n",
       "    </tr>\n",
       "  </tbody>\n",
       "</table>\n",
       "</div>"
      ],
      "text/plain": [
       "    carat        cut color clarity  depth  table     x     y     z\n",
       "id                                                                \n",
       "0    0.70  Very Good     H     SI1   61.0   58.0  5.67  5.70  3.47\n",
       "1    1.52      Ideal     H     VS2   61.8   54.0  7.42  7.43  4.59\n",
       "2    1.03      Ideal     E     SI1   62.0   57.0  6.44  6.47  4.00\n",
       "3    0.70  Very Good     G    VVS1   63.3   57.0  5.59  5.63  3.55\n",
       "4    1.28      Ideal     H     SI1   62.4   56.0  6.93  6.91  4.32"
      ]
     },
     "execution_count": 39,
     "metadata": {},
     "output_type": "execute_result"
    }
   ],
   "source": [
    "test.head()"
   ]
  },
  {
   "cell_type": "code",
   "execution_count": 40,
   "id": "aca935a8",
   "metadata": {},
   "outputs": [],
   "source": [
    "test['cut'] = test['cut'].replace(['Fair','Good', 'Very Good', 'Ideal', 'Premium'],[1, 2, 3, 4, 5])"
   ]
  },
  {
   "cell_type": "code",
   "execution_count": 41,
   "id": "e82ddcd0",
   "metadata": {},
   "outputs": [],
   "source": [
    "test['color'] = test['color'].replace(['J','I', 'H', 'G', 'F', 'E', 'D'],[1, 2, 3, 4, 5, 6, 7])"
   ]
  },
  {
   "cell_type": "code",
   "execution_count": 42,
   "id": "dd5d879a",
   "metadata": {},
   "outputs": [],
   "source": [
    "test.drop(['clarity'], axis=1, inplace=True)"
   ]
  },
  {
   "cell_type": "code",
   "execution_count": 43,
   "id": "1809a439",
   "metadata": {},
   "outputs": [],
   "source": [
    "y_pred = lreg.predict(test)"
   ]
  },
  {
   "cell_type": "code",
   "execution_count": 44,
   "id": "1f3b6304",
   "metadata": {},
   "outputs": [],
   "source": [
    "test[\"price\"] = y_pred"
   ]
  },
  {
   "cell_type": "code",
   "execution_count": 45,
   "id": "436766e2",
   "metadata": {},
   "outputs": [
    {
     "data": {
      "text/html": [
       "<div>\n",
       "<style scoped>\n",
       "    .dataframe tbody tr th:only-of-type {\n",
       "        vertical-align: middle;\n",
       "    }\n",
       "\n",
       "    .dataframe tbody tr th {\n",
       "        vertical-align: top;\n",
       "    }\n",
       "\n",
       "    .dataframe thead th {\n",
       "        text-align: right;\n",
       "    }\n",
       "</style>\n",
       "<table border=\"1\" class=\"dataframe\">\n",
       "  <thead>\n",
       "    <tr style=\"text-align: right;\">\n",
       "      <th></th>\n",
       "      <th>carat</th>\n",
       "      <th>cut</th>\n",
       "      <th>color</th>\n",
       "      <th>depth</th>\n",
       "      <th>table</th>\n",
       "      <th>x</th>\n",
       "      <th>y</th>\n",
       "      <th>z</th>\n",
       "      <th>price</th>\n",
       "    </tr>\n",
       "    <tr>\n",
       "      <th>id</th>\n",
       "      <th></th>\n",
       "      <th></th>\n",
       "      <th></th>\n",
       "      <th></th>\n",
       "      <th></th>\n",
       "      <th></th>\n",
       "      <th></th>\n",
       "      <th></th>\n",
       "      <th></th>\n",
       "    </tr>\n",
       "  </thead>\n",
       "  <tbody>\n",
       "    <tr>\n",
       "      <th>0</th>\n",
       "      <td>0.70</td>\n",
       "      <td>3</td>\n",
       "      <td>3</td>\n",
       "      <td>61.0</td>\n",
       "      <td>58.0</td>\n",
       "      <td>5.67</td>\n",
       "      <td>5.70</td>\n",
       "      <td>3.47</td>\n",
       "      <td>764.800922</td>\n",
       "    </tr>\n",
       "    <tr>\n",
       "      <th>1</th>\n",
       "      <td>1.52</td>\n",
       "      <td>4</td>\n",
       "      <td>3</td>\n",
       "      <td>61.8</td>\n",
       "      <td>54.0</td>\n",
       "      <td>7.42</td>\n",
       "      <td>7.43</td>\n",
       "      <td>4.59</td>\n",
       "      <td>923.700002</td>\n",
       "    </tr>\n",
       "    <tr>\n",
       "      <th>2</th>\n",
       "      <td>1.03</td>\n",
       "      <td>4</td>\n",
       "      <td>6</td>\n",
       "      <td>62.0</td>\n",
       "      <td>57.0</td>\n",
       "      <td>6.44</td>\n",
       "      <td>6.47</td>\n",
       "      <td>4.00</td>\n",
       "      <td>858.358679</td>\n",
       "    </tr>\n",
       "    <tr>\n",
       "      <th>3</th>\n",
       "      <td>0.70</td>\n",
       "      <td>3</td>\n",
       "      <td>4</td>\n",
       "      <td>63.3</td>\n",
       "      <td>57.0</td>\n",
       "      <td>5.59</td>\n",
       "      <td>5.63</td>\n",
       "      <td>3.55</td>\n",
       "      <td>770.807296</td>\n",
       "    </tr>\n",
       "    <tr>\n",
       "      <th>4</th>\n",
       "      <td>1.28</td>\n",
       "      <td>4</td>\n",
       "      <td>3</td>\n",
       "      <td>62.4</td>\n",
       "      <td>56.0</td>\n",
       "      <td>6.93</td>\n",
       "      <td>6.91</td>\n",
       "      <td>4.32</td>\n",
       "      <td>881.751874</td>\n",
       "    </tr>\n",
       "  </tbody>\n",
       "</table>\n",
       "</div>"
      ],
      "text/plain": [
       "    carat  cut  color  depth  table     x     y     z       price\n",
       "id                                                               \n",
       "0    0.70    3      3   61.0   58.0  5.67  5.70  3.47  764.800922\n",
       "1    1.52    4      3   61.8   54.0  7.42  7.43  4.59  923.700002\n",
       "2    1.03    4      6   62.0   57.0  6.44  6.47  4.00  858.358679\n",
       "3    0.70    3      4   63.3   57.0  5.59  5.63  3.55  770.807296\n",
       "4    1.28    4      3   62.4   56.0  6.93  6.91  4.32  881.751874"
      ]
     },
     "execution_count": 45,
     "metadata": {},
     "output_type": "execute_result"
    }
   ],
   "source": [
    "test.head()"
   ]
  },
  {
   "cell_type": "markdown",
   "id": "550a5813",
   "metadata": {},
   "source": [
    "### Submission"
   ]
  },
  {
   "cell_type": "code",
   "execution_count": 47,
   "id": "fb188c5b",
   "metadata": {},
   "outputs": [],
   "source": [
    "my_submission_1 = test[\"price\"]"
   ]
  },
  {
   "cell_type": "code",
   "execution_count": 48,
   "id": "e7d0ff64",
   "metadata": {},
   "outputs": [],
   "source": [
    "my_submission_1.to_csv(\".AGB_my_submission_17_07_22h51.csv\")"
   ]
  },
  {
   "cell_type": "code",
   "execution_count": null,
   "id": "2a46dd5d",
   "metadata": {},
   "outputs": [],
   "source": []
  }
 ],
 "metadata": {
  "kernelspec": {
   "display_name": "ironhack",
   "language": "python",
   "name": "ironhack"
  },
  "language_info": {
   "codemirror_mode": {
    "name": "ipython",
    "version": 3
   },
   "file_extension": ".py",
   "mimetype": "text/x-python",
   "name": "python",
   "nbconvert_exporter": "python",
   "pygments_lexer": "ipython3",
   "version": "3.8.10"
  }
 },
 "nbformat": 4,
 "nbformat_minor": 5
}
